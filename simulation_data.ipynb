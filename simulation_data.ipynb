{
 "cells": [
  {
   "cell_type": "code",
   "execution_count": 1,
   "metadata": {},
   "outputs": [],
   "source": [
    "import numpy as np\n",
    "from scipy.linalg import orth"
   ]
  },
  {
   "cell_type": "code",
   "execution_count": 2,
   "metadata": {},
   "outputs": [],
   "source": [
    "k = 3\n",
    "n = 10\n",
    "d = 30"
   ]
  },
  {
   "cell_type": "code",
   "execution_count": 3,
   "metadata": {},
   "outputs": [],
   "source": [
    "def check_orth(A):\n",
    "    return np.allclose(A.T.dot(A), np.eye(A.shape[1]))"
   ]
  },
  {
   "cell_type": "code",
   "execution_count": 4,
   "metadata": {},
   "outputs": [],
   "source": [
    "alpha = orth(np.random.randn(d, n)) # V_n(R^d)\n",
    "y = orth(np.random.randn(n, k)) # V_k(R^n)\n",
    "x = alpha.dot(y) # alpha * y should be in V_k(R^d)"
   ]
  },
  {
   "cell_type": "code",
   "execution_count": 6,
   "metadata": {},
   "outputs": [
    {
     "name": "stdout",
     "output_type": "stream",
     "text": [
      "(30, 10) True\n",
      "(10, 3) True\n",
      "(30, 3) True\n"
     ]
    }
   ],
   "source": [
    "print(alpha.shape, check_orth(alpha))\n",
    "print(y.shape, check_orth(y))\n",
    "print(x.shape, check_orth(x))"
   ]
  }
 ],
 "metadata": {
  "kernelspec": {
   "display_name": "Python 3.8.12 ('PIC16B')",
   "language": "python",
   "name": "python3"
  },
  "language_info": {
   "codemirror_mode": {
    "name": "ipython",
    "version": 3
   },
   "file_extension": ".py",
   "mimetype": "text/x-python",
   "name": "python",
   "nbconvert_exporter": "python",
   "pygments_lexer": "ipython3",
   "version": "3.8.12"
  },
  "orig_nbformat": 4,
  "vscode": {
   "interpreter": {
    "hash": "360ab53077705b6f8e4e6dfbce9110216321825d4fd58fafd1145a84661440eb"
   }
  }
 },
 "nbformat": 4,
 "nbformat_minor": 2
}
