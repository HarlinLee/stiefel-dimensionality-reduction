{
 "cells": [
  {
   "cell_type": "code",
   "execution_count": 1,
   "metadata": {},
   "outputs": [],
   "source": [
    "import numpy as np\n",
    "from scipy.linalg import fractional_matrix_power, svd, svdvals, eig, eigvals\n",
    "import matplotlib.pyplot as plt"
   ]
  },
  {
   "cell_type": "code",
   "execution_count": 2,
   "metadata": {},
   "outputs": [],
   "source": [
    "k = 3\n",
    "n = 10\n",
    "d = 30"
   ]
  },
  {
   "cell_type": "code",
   "execution_count": 3,
   "metadata": {},
   "outputs": [],
   "source": [
    "def check_orth(A):\n",
    "    return np.allclose(A.T.dot(A), np.eye(A.shape[1]))\n",
    "\n",
    "def stiefel_sample(rows, cols):\n",
    "    # uniformly sample from St(rows, cols) according to\n",
    "    # https://math.stackexchange.com/questions/3097862/uniform-distribution-on-stiefel-manifold\n",
    "    X = np.random.randn(rows, cols)\n",
    "    return X.dot(fractional_matrix_power(X.T.dot(X), -0.5))\n",
    "\n",
    "def stiefel_samples(rows, cols, n_samples):\n",
    "    samples = []\n",
    "    for i in range(n_samples):\n",
    "        samples.append(stiefel_sample(rows, cols))\n",
    "    return samples"
   ]
  },
  {
   "cell_type": "code",
   "execution_count": 4,
   "metadata": {},
   "outputs": [
    {
     "name": "stdout",
     "output_type": "stream",
     "text": [
      "(30, 10) True\n",
      "(10, 3) True\n",
      "(30, 3) True\n"
     ]
    }
   ],
   "source": [
    "alpha = stiefel_sample(d, n) # V_n(R^d)\n",
    "x = stiefel_sample(n, k) # V_k(R^n)\n",
    "y = alpha.dot(x) # alpha * x should be in V_k(R^d)\n",
    "\n",
    "print(alpha.shape, check_orth(alpha))\n",
    "print(x.shape, check_orth(x))\n",
    "print(y.shape, check_orth(y))"
   ]
  },
  {
   "cell_type": "code",
   "execution_count": 5,
   "metadata": {},
   "outputs": [],
   "source": [
    "def orth_proj(X):\n",
    "    u, _, vh = np.linalg.svd(X)\n",
    "    k = min(X.shape)\n",
    "    return u[:,:k].dot(vh)\n",
    "\n",
    "# def orth_proj2(X):\n",
    "#     u, _, _ = np.linalg.svd(X)\n",
    "#     k = min(X.shape)\n",
    "#     return u[:,:k]\n",
    "\n",
    "def dist1(X, Y):\n",
    "    return np.linalg.norm(X - Y, 'fro')\n",
    "\n",
    "def dist2(X, Y):\n",
    "    return np.linalg.norm(X.dot(X.T) - Y.dot(Y.T), 'fro')"
   ]
  },
  {
   "cell_type": "code",
   "execution_count": 6,
   "metadata": {},
   "outputs": [
    {
     "name": "stdout",
     "output_type": "stream",
     "text": [
      "(10, 3) False\n",
      "(10, 3) True\n",
      "\n",
      "d1(X, Xhat) 3.5101775072366155\n",
      "d2(X, Xhat) 18.07811487647534\n"
     ]
    }
   ],
   "source": [
    "X = np.random.randn(n, k)\n",
    "Xhat = orth_proj(X)\n",
    "# Xhat2 = orth_proj2(X)\n",
    "\n",
    "print(X.shape, check_orth(X)) # NOT on Stiefel\n",
    "print(Xhat.shape, check_orth(Xhat)) \n",
    "# print(Xhat2.shape, check_orth(Xhat2)) \n",
    "print( )\n",
    "\n",
    "print('d1(X, Xhat)', dist1(X, Xhat))\n",
    "# print('d1(X, Xhat2)', dist1(X, Xhat2))\n",
    "# print('d1(Xhat, Xhat2)', dist1(Xhat, Xhat2))\n",
    "\n",
    "print(\"d2(X, Xhat)\", dist2(X, Xhat))\n",
    "# print(\"d2(X, Xhat2)\", dist2(X, Xhat2))\n",
    "# print(\"d2(Xhat, Xhat2)\", dist2(Xhat, Xhat2))"
   ]
  },
  {
   "cell_type": "code",
   "execution_count": 7,
   "metadata": {},
   "outputs": [],
   "source": [
    "# num_trials = 100\n",
    "# dists_all= np.zeros((num_trials, 4))\n",
    "\n",
    "# alpha = stiefel_sample(d, n)\n",
    "\n",
    "# for i in range(num_trials):\n",
    "#     y = stiefel_sample(d, k)\n",
    "#     A = alpha.T.dot(y)\n",
    "#     dists_all[i, 0] = dist1(A, orth_proj(A))**2\n",
    "#     dists_all[i, 1] = dist1(A, orth_proj2(A))**2\n",
    "#     dists_all[i, 2] = dist2(A, orth_proj(A))**2\n",
    "#     dists_all[i, 3] = dist2(A, orth_proj2(A))**2\n",
    "# dists_all.mean(axis=0), dists_all.std(axis=0)"
   ]
  },
  {
   "cell_type": "code",
   "execution_count": 8,
   "metadata": {},
   "outputs": [],
   "source": [
    "import autograd.numpy as anp\n",
    "from pymanopt.manifolds.stiefel import Stiefel\n",
    "from pymanopt.core.problem import Problem\n",
    "from pymanopt.function import autograd,numpy\n",
    "from pymanopt import optimizers"
   ]
  },
  {
   "cell_type": "code",
   "execution_count": 9,
   "metadata": {},
   "outputs": [],
   "source": [
    "alpha = stiefel_sample(d, n) # V_n(R^d)\n",
    "xs = stiefel_samples(n, k, 5)\n",
    "ys = [alpha.dot(x) for x in xs]\n",
    "yhats = [orth_proj(alpha.T.dot(y)) for y in ys]"
   ]
  },
  {
   "cell_type": "code",
   "execution_count": 10,
   "metadata": {},
   "outputs": [
    {
     "name": "stdout",
     "output_type": "stream",
     "text": [
      "Optimizing...\n",
      "Terminated - min grad norm reached after 184 iterations, 0.50 seconds.\n",
      "\n",
      "cost -14.99999999999997 -8.04268511645315 -14.999999999999572\n",
      "d1 4.21561325300715 4.153974587080088\n",
      "d2 3.685044172516831 2.998878227140595e-06\n",
      "d1 2.2826850971359827 2.1583933754128117\n",
      "d2 2.303219996616884 2.019214845066143\n"
     ]
    }
   ],
   "source": [
    "st_dn = Stiefel(d, n) \n",
    "\n",
    "@autograd(st_dn)\n",
    "#@numpy(st_dn)\n",
    "def cost(point):\n",
    "    return -anp.sum([anp.linalg.norm(anp.dot(point.T, y), 'nuc') for y in ys])\n",
    "    #return -anp.sum([anp.trace(y.T.dot(point).dot(point.T).dot(y)) for y in ys])\n",
    "    #return -anp.trace((point.T @ y) @ (point.T @ y).T)\n",
    "    #return anp.linalg.norm(y - point @ , 'fro')**2\n",
    "\n",
    "# @numpy(st_dn)\n",
    "# def euclidean_gradient(point):\n",
    "#     return -2*y.dot(y.T).dot(point)\n",
    "\n",
    "init_point = st_dn.random_point()\n",
    "#init_point = alpha\n",
    "\n",
    "problem = Problem(st_dn, cost=cost)#, euclidean_gradient=euclidean_gradient)\n",
    "#optimizer = optimizers.ConjugateGradient()\n",
    "optimizer = optimizers.SteepestDescent(verbosity=1)\n",
    "result = optimizer.run(problem, initial_point=init_point)\n",
    "\n",
    "rp = st_dn.random_point()\n",
    "\n",
    "print('cost', cost(alpha), cost(rp), cost(result.point))\n",
    "print(\"d1\", dist1(rp, alpha), dist1(result.point, alpha))\n",
    "print(\"d2\", dist2(rp, alpha), dist2(result.point, alpha))\n",
    "print(\"d1\", np.mean([dist1(rp.dot(x), y) for x, y in zip(xs, ys)]),\n",
    "            np.mean([dist1(result.point.dot(x), y) for x, y in zip(xs, ys)]))\n",
    "print(\"d2\", np.mean([dist2(rp.dot(x), y) for x, y in zip(xs, ys)]),\n",
    "            np.mean([dist2(result.point.dot(x), y) for x, y in zip(xs, ys)]))"
   ]
  },
  {
   "cell_type": "code",
   "execution_count": 11,
   "metadata": {},
   "outputs": [
    {
     "name": "stderr",
     "output_type": "stream",
     "text": [
      "/Users/harlinl/opt/anaconda3/envs/PIC16B/lib/python3.8/site-packages/autograd/tracer.py:14: UserWarning: Output seems independent of input.\n",
      "  warnings.warn(\"Output seems independent of input.\")\n",
      "/Users/harlinl/opt/anaconda3/envs/PIC16B/lib/python3.8/site-packages/pymanopt/optimizers/line_search.py:44: RuntimeWarning: divide by zero encountered in double_scalars\n",
      "  alpha = self.initial_step_size / norm_d\n",
      "/Users/harlinl/opt/anaconda3/envs/PIC16B/lib/python3.8/site-packages/pymanopt/optimizers/line_search.py:48: RuntimeWarning: invalid value encountered in multiply\n",
      "  newx = manifold.retraction(x, alpha * d)\n",
      "/Users/harlinl/opt/anaconda3/envs/PIC16B/lib/python3.8/site-packages/pymanopt/optimizers/line_search.py:54: RuntimeWarning: invalid value encountered in double_scalars\n",
      "  newf > f0 + self.sufficient_decrease * alpha * df0\n",
      "/Users/harlinl/opt/anaconda3/envs/PIC16B/lib/python3.8/site-packages/pymanopt/optimizers/line_search.py:72: RuntimeWarning: invalid value encountered in double_scalars\n",
      "  step_size = alpha * norm_d\n"
     ]
    },
    {
     "data": {
      "image/png": "[encoded data removed]",
      "text/plain": [
       "<Figure size 432x288 with 1 Axes>"
      ]
     },
     "metadata": {
      "needs_background": "light"
     },
     "output_type": "display_data"
    }
   ],
   "source": [
    "alpha = stiefel_sample(d, n) # V_n(R^d)\n",
    "st_dn = Stiefel(d, n) \n",
    "dists = []\n",
    "ms = range(100)\n",
    "\n",
    "for m in ms:\n",
    "    xs = stiefel_samples(n, k, m)\n",
    "    ys = [alpha.dot(x) for x in xs]\n",
    "\n",
    "    @autograd(st_dn)\n",
    "    def cost(point):\n",
    "        return -anp.sum([anp.linalg.norm(anp.dot(point.T, y), 'nuc') for y in ys])\n",
    "\n",
    "    init_point = st_dn.random_point()\n",
    "\n",
    "    problem = Problem(st_dn, cost=cost)\n",
    "    optimizer = optimizers.SteepestDescent(verbosity=0)\n",
    "    result = optimizer.run(problem, initial_point=init_point)\n",
    "    dists.append(dist2(result.point, alpha))\n",
    "\n",
    "plt.semilogy(ms, dists)\n",
    "plt.xlabel('number of samples on Stiefel manifold')\n",
    "plt.ylabel('err (between subspaces)')\n",
    "plt.show()"
   ]
  },
  {
   "cell_type": "code",
   "execution_count": 13,
   "metadata": {},
   "outputs": [],
   "source": [
    "yhats = [orth_proj(result.point.T.dot(y)) for y in ys]"
   ]
  },
  {
   "cell_type": "code",
   "execution_count": 19,
   "metadata": {},
   "outputs": [
    {
     "data": {
      "text/plain": [
       "(99, 10, 3)"
      ]
     },
     "execution_count": 19,
     "metadata": {},
     "output_type": "execute_result"
    }
   ],
   "source": [
    "np.array(yhats).shape"
   ]
  },
  {
   "cell_type": "code",
   "execution_count": 18,
   "metadata": {},
   "outputs": [
    {
     "ename": "ValueError",
     "evalue": "A 2-dimensional array must be passed.",
     "output_type": "error",
     "traceback": [
      "\u001b[0;31m---------------------------------------------------------------------------\u001b[0m",
      "\u001b[0;31mValueError\u001b[0m                                Traceback (most recent call last)",
      "\u001b[1;32m/Users/harlinl/Dropbox/stiefel-dimensionality-reduction/simulation_data.ipynb Cell 13'\u001b[0m in \u001b[0;36m<cell line: 2>\u001b[0;34m()\u001b[0m\n\u001b[1;32m      <a href='vscode-notebook-cell:/Users/harlinl/Dropbox/stiefel-dimensionality-reduction/simulation_data.ipynb#ch0000014?line=0'>1</a>\u001b[0m \u001b[39mfrom\u001b[39;00m \u001b[39mscipy\u001b[39;00m\u001b[39m.\u001b[39;00m\u001b[39mspatial\u001b[39;00m\u001b[39m.\u001b[39;00m\u001b[39mdistance\u001b[39;00m \u001b[39mimport\u001b[39;00m pdist\n\u001b[0;32m----> <a href='vscode-notebook-cell:/Users/harlinl/Dropbox/stiefel-dimensionality-reduction/simulation_data.ipynb#ch0000014?line=1'>2</a>\u001b[0m pdist_yhats \u001b[39m=\u001b[39m pdist(yhats)\n\u001b[1;32m      <a href='vscode-notebook-cell:/Users/harlinl/Dropbox/stiefel-dimensionality-reduction/simulation_data.ipynb#ch0000014?line=2'>3</a>\u001b[0m pdist_xs \u001b[39m=\u001b[39m pdist(xs)\n",
      "File \u001b[0;32m~/opt/anaconda3/envs/PIC16B/lib/python3.8/site-packages/scipy/spatial/distance.py:2232\u001b[0m, in \u001b[0;36mpdist\u001b[0;34m(X, metric, out, **kwargs)\u001b[0m\n\u001b[1;32m   2230\u001b[0m s \u001b[39m=\u001b[39m X\u001b[39m.\u001b[39mshape\n\u001b[1;32m   2231\u001b[0m \u001b[39mif\u001b[39;00m \u001b[39mlen\u001b[39m(s) \u001b[39m!=\u001b[39m \u001b[39m2\u001b[39m:\n\u001b[0;32m-> 2232\u001b[0m     \u001b[39mraise\u001b[39;00m \u001b[39mValueError\u001b[39;00m(\u001b[39m'\u001b[39m\u001b[39mA 2-dimensional array must be passed.\u001b[39m\u001b[39m'\u001b[39m)\n\u001b[1;32m   2234\u001b[0m m, n \u001b[39m=\u001b[39m s\n\u001b[1;32m   2236\u001b[0m \u001b[39mif\u001b[39;00m callable(metric):\n",
      "\u001b[0;31mValueError\u001b[0m: A 2-dimensional array must be passed."
     ]
    }
   ],
   "source": [
    "from scipy.spatial.distance import pdist\n",
    "pdist_yhats = pdist(yhats)\n",
    "pdist_xs = pdist(xs)"
   ]
  }
 ],
 "metadata": {
  "kernelspec": {
   "display_name": "Python 3.8.12 ('PIC16B')",
   "language": "python",
   "name": "python3"
  },
  "language_info": {
   "codemirror_mode": {
    "name": "ipython",
    "version": 3
   },
   "file_extension": ".py",
   "mimetype": "text/x-python",
   "name": "python",
   "nbconvert_exporter": "python",
   "pygments_lexer": "ipython3",
   "version": "3.8.12"
  },
  "orig_nbformat": 4,
  "vscode": {
   "interpreter": {
    "hash": "360ab53077705b6f8e4e6dfbce9110216321825d4fd58fafd1145a84661440eb"
   }
  }
 },
 "nbformat": 4,
 "nbformat_minor": 2
}
