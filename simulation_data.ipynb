{
 "cells": [
  {
   "cell_type": "code",
   "execution_count": 1,
   "metadata": {},
   "outputs": [],
   "source": [
    "import numpy as np\n",
    "from scipy.linalg import fractional_matrix_power"
   ]
  },
  {
   "cell_type": "code",
   "execution_count": 2,
   "metadata": {},
   "outputs": [],
   "source": [
    "k = 3\n",
    "n = 10\n",
    "d = 30"
   ]
  },
  {
   "cell_type": "code",
   "execution_count": 3,
   "metadata": {},
   "outputs": [],
   "source": [
    "def check_orth(A):\n",
    "    return np.allclose(A.T.dot(A), np.eye(A.shape[1]))\n",
    "\n",
    "def stiefel_sample(rows, cols):\n",
    "    # uniformly sample from St(rows, cols) according to\n",
    "    # https://math.stackexchange.com/questions/3097862/uniform-distribution-on-stiefel-manifold\n",
    "    X = np.random.randn(rows, cols)\n",
    "    return X.dot(fractional_matrix_power(X.T.dot(X), -0.5))"
   ]
  },
  {
   "cell_type": "code",
   "execution_count": 4,
   "metadata": {},
   "outputs": [],
   "source": [
    "alpha = stiefel_sample(d, n) # V_n(R^d)\n",
    "y = stiefel_sample(n, k) # V_k(R^n)\n",
    "x = alpha.dot(y) # alpha * y should be in V_k(R^d)"
   ]
  },
  {
   "cell_type": "code",
   "execution_count": 5,
   "metadata": {},
   "outputs": [
    {
     "name": "stdout",
     "output_type": "stream",
     "text": [
      "(30, 10) True\n",
      "(10, 3) True\n",
      "(30, 3) True\n"
     ]
    }
   ],
   "source": [
    "print(alpha.shape, check_orth(alpha))\n",
    "print(y.shape, check_orth(y))\n",
    "print(x.shape, check_orth(x))"
   ]
  },
  {
   "cell_type": "code",
   "execution_count": 6,
   "metadata": {},
   "outputs": [],
   "source": [
    "def orth_proj(X):\n",
    "    u, _, vh = np.linalg.svd(X)\n",
    "    k = min(X.shape)\n",
    "    return u[:,:k].dot(vh)\n",
    "\n",
    "def orth_proj2(X):\n",
    "    u, _, _ = np.linalg.svd(X)\n",
    "    k = min(X.shape)\n",
    "    return u[:,:k]\n",
    "\n",
    "def dist1(X, Y):\n",
    "    return np.linalg.norm(X - Y, 'fro')\n",
    "\n",
    "def dist2(X, Y):\n",
    "    return np.linalg.norm(X.dot(X.T) - Y.dot(Y.T), 'fro')"
   ]
  },
  {
   "cell_type": "code",
   "execution_count": 7,
   "metadata": {},
   "outputs": [
    {
     "name": "stdout",
     "output_type": "stream",
     "text": [
      "(10, 3) False\n",
      "(10, 3) True\n",
      "(10, 3) True\n"
     ]
    }
   ],
   "source": [
    "X = np.random.randn(n, k)\n",
    "Xhat = orth_proj(X)\n",
    "Xhat2 = orth_proj2(X)\n",
    "\n",
    "print(X.shape, check_orth(X))\n",
    "print(Xhat.shape, check_orth(Xhat))\n",
    "print(Xhat2.shape, check_orth(Xhat2))"
   ]
  },
  {
   "cell_type": "code",
   "execution_count": 8,
   "metadata": {},
   "outputs": [
    {
     "name": "stdout",
     "output_type": "stream",
     "text": [
      "d1(Xhat, Xhat2) 2.6521970755648905\n",
      "d2(Xhat, Xhat2) 3.181315963828449e-16\n"
     ]
    }
   ],
   "source": [
    "print('d1(Xhat, Xhat2)', dist1(Xhat, Xhat2))\n",
    "print(\"d2(Xhat, Xhat2)\", dist2(Xhat, Xhat2))"
   ]
  }
 ],
 "metadata": {
  "kernelspec": {
   "display_name": "Python 3.8.12 ('PIC16B')",
   "language": "python",
   "name": "python3"
  },
  "language_info": {
   "codemirror_mode": {
    "name": "ipython",
    "version": 3
   },
   "file_extension": ".py",
   "mimetype": "text/x-python",
   "name": "python",
   "nbconvert_exporter": "python",
   "pygments_lexer": "ipython3",
   "version": "3.8.12"
  },
  "orig_nbformat": 4,
  "vscode": {
   "interpreter": {
    "hash": "360ab53077705b6f8e4e6dfbce9110216321825d4fd58fafd1145a84661440eb"
   }
  }
 },
 "nbformat": 4,
 "nbformat_minor": 2
}
