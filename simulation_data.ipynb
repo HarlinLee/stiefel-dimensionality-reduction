{
 "cells": [
  {
   "cell_type": "code",
   "execution_count": 1,
   "metadata": {},
   "outputs": [],
   "source": [
    "import numpy as np\n",
    "from scipy.linalg import fractional_matrix_power, svd, svdvals, eig, eigvals\n",
    "import matplotlib.pyplot as plt"
   ]
  },
  {
   "cell_type": "code",
   "execution_count": 2,
   "metadata": {},
   "outputs": [],
   "source": [
    "k = 3\n",
    "n = 10\n",
    "d = 30"
   ]
  },
  {
   "cell_type": "code",
   "execution_count": 3,
   "metadata": {},
   "outputs": [],
   "source": [
    "def check_orth(A):\n",
    "    return np.allclose(A.T.dot(A), np.eye(A.shape[1]))\n",
    "\n",
    "def stiefel_sample(rows, cols):\n",
    "    # uniformly sample from St(rows, cols) according to\n",
    "    # https://math.stackexchange.com/questions/3097862/uniform-distribution-on-stiefel-manifold\n",
    "    X = np.random.randn(rows, cols)\n",
    "    return X.dot(fractional_matrix_power(X.T.dot(X), -0.5))\n",
    "\n",
    "def stiefel_samples(rows, cols, n_samples):\n",
    "    samples = []\n",
    "    for i in range(n_samples):\n",
    "        samples.append(stiefel_sample(rows, cols))\n",
    "    return samples"
   ]
  },
  {
   "cell_type": "code",
   "execution_count": 4,
   "metadata": {},
   "outputs": [
    {
     "name": "stdout",
     "output_type": "stream",
     "text": [
      "(30, 10) True\n",
      "(10, 3) True\n",
      "(30, 3) True\n"
     ]
    }
   ],
   "source": [
    "alpha = stiefel_sample(d, n) # V_n(R^d)\n",
    "x = stiefel_sample(n, k) # V_k(R^n)\n",
    "y = alpha.dot(x) # alpha * x should be in V_k(R^d)\n",
    "\n",
    "print(alpha.shape, check_orth(alpha))\n",
    "print(x.shape, check_orth(x))\n",
    "print(y.shape, check_orth(y))"
   ]
  },
  {
   "cell_type": "code",
   "execution_count": 5,
   "metadata": {},
   "outputs": [],
   "source": [
    "def orth_proj(X):\n",
    "    u, _, vh = np.linalg.svd(X)\n",
    "    k = min(X.shape)\n",
    "    return u[:,:k].dot(vh)\n",
    "\n",
    "# def orth_proj2(X):\n",
    "#     u, _, _ = np.linalg.svd(X)\n",
    "#     k = min(X.shape)\n",
    "#     return u[:,:k]\n",
    "\n",
    "def dist1(X, Y):\n",
    "    return np.linalg.norm(X - Y, 'fro')\n",
    "\n",
    "def dist2(X, Y):\n",
    "    return np.linalg.norm(X.dot(X.T) - Y.dot(Y.T), 'fro')"
   ]
  },
  {
   "cell_type": "code",
   "execution_count": 6,
   "metadata": {},
   "outputs": [
    {
     "name": "stdout",
     "output_type": "stream",
     "text": [
      "(10, 3) False\n",
      "(10, 3) True\n",
      "d1(X, Xhat) 4.15718157818767\n",
      "\n",
      "d2(X, Xhat) 20.60753444922335\n"
     ]
    }
   ],
   "source": [
    "X = np.random.randn(n, k)\n",
    "Xhat = orth_proj(X)\n",
    "# Xhat2 = orth_proj2(X)\n",
    "\n",
    "print(X.shape, check_orth(X)) # NOT on Stiefel\n",
    "print(Xhat.shape, check_orth(Xhat)) \n",
    "# print(Xhat2.shape, check_orth(Xhat2)) \n",
    "print( )\n",
    "\n",
    "print('d1(X, Xhat)', dist1(X, Xhat))\n",
    "# print('d1(X, Xhat2)', dist1(X, Xhat2))\n",
    "# print('d1(Xhat, Xhat2)', dist1(Xhat, Xhat2))\n",
    "\n",
    "print(\"d2(X, Xhat)\", dist2(X, Xhat))\n",
    "# print(\"d2(X, Xhat2)\", dist2(X, Xhat2))\n",
    "# print(\"d2(Xhat, Xhat2)\", dist2(Xhat, Xhat2))"
   ]
  },
  {
   "cell_type": "code",
   "execution_count": 7,
   "metadata": {},
   "outputs": [],
   "source": [
    "# num_trials = 100\n",
    "# dists_all= np.zeros((num_trials, 4))\n",
    "\n",
    "# alpha = stiefel_sample(d, n)\n",
    "\n",
    "# for i in range(num_trials):\n",
    "#     y = stiefel_sample(d, k)\n",
    "#     A = alpha.T.dot(y)\n",
    "#     dists_all[i, 0] = dist1(A, orth_proj(A))**2\n",
    "#     dists_all[i, 1] = dist1(A, orth_proj2(A))**2\n",
    "#     dists_all[i, 2] = dist2(A, orth_proj(A))**2\n",
    "#     dists_all[i, 3] = dist2(A, orth_proj2(A))**2\n",
    "# dists_all.mean(axis=0), dists_all.std(axis=0)"
   ]
  },
  {
   "cell_type": "code",
   "execution_count": 8,
   "metadata": {},
   "outputs": [],
   "source": [
    "import autograd.numpy as anp\n",
    "from pymanopt.manifolds.stiefel import Stiefel\n",
    "from pymanopt.core.problem import Problem\n",
    "from pymanopt.function import autograd,numpy\n",
    "from pymanopt import optimizers"
   ]
  },
  {
   "cell_type": "code",
   "execution_count": 24,
   "metadata": {},
   "outputs": [],
   "source": [
    "alpha = stiefel_sample(d, n) # V_n(R^d)\n",
    "xs = stiefel_samples(n, k, 300)\n",
    "ys = [alpha.dot(x) for x in xs]\n",
    "yhats = [orth_proj(alpha.T.dot(y)) for y in ys]"
   ]
  },
  {
   "cell_type": "code",
   "execution_count": 25,
   "metadata": {},
   "outputs": [
    {
     "name": "stdout",
     "output_type": "stream",
     "text": [
      "Optimizing...\n",
      "Terminated - min grad norm reached after 19 iterations, 2.82 seconds.\n",
      "\n",
      "cost -899.9999999999998 -510.0015653824497 -900.0\n",
      "d1 4.534660841083964 4.652410142186275\n",
      "d2 3.6257329900875686 1.4655841894861594e-08\n",
      "d1 2.481457529252924 2.5457128916800875\n",
      "d2 2.3337373622394613 2.049584180653903\n"
     ]
    }
   ],
   "source": [
    "st_dn = Stiefel(d, n) \n",
    "\n",
    "@autograd(st_dn)\n",
    "#@numpy(st_dn)\n",
    "def cost(point):\n",
    "    return -anp.sum([anp.linalg.norm(anp.dot(point.T, y), 'nuc') for y in ys])\n",
    "    #return -anp.sum([anp.trace(y.T.dot(point).dot(point.T).dot(y)) for y in ys])\n",
    "    #return -anp.trace((point.T @ y) @ (point.T @ y).T)\n",
    "    #return anp.linalg.norm(y - point @ , 'fro')**2\n",
    "\n",
    "# @numpy(st_dn)\n",
    "# def euclidean_gradient(point):\n",
    "#     return -2*y.dot(y.T).dot(point)\n",
    "\n",
    "init_point = st_dn.random_point()\n",
    "#init_point = alpha\n",
    "\n",
    "problem = Problem(st_dn, cost=cost)#, euclidean_gradient=euclidean_gradient)\n",
    "#optimizer = optimizers.ConjugateGradient()\n",
    "optimizer = optimizers.SteepestDescent(verbosity=1)\n",
    "result = optimizer.run(problem, initial_point=init_point)\n",
    "\n",
    "rp = st_dn.random_point()\n",
    "\n",
    "print('cost', cost(alpha), cost(rp), cost(result.point))\n",
    "print(\"d1\", dist1(rp, alpha), dist1(result.point, alpha))\n",
    "print(\"d2\", dist2(rp, alpha), dist2(result.point, alpha))\n",
    "print(\"d1\", np.mean([dist1(rp.dot(x), y) for x, y in zip(xs, ys)]),\n",
    "            np.mean([dist1(result.point.dot(x), y) for x, y in zip(xs, ys)]))\n",
    "print(\"d2\", np.mean([dist2(rp.dot(x), y) for x, y in zip(xs, ys)]),\n",
    "            np.mean([dist2(result.point.dot(x), y) for x, y in zip(xs, ys)]))"
   ]
  },
  {
   "cell_type": "code",
   "execution_count": 23,
   "metadata": {},
   "outputs": [
    {
     "name": "stderr",
     "output_type": "stream",
     "text": [
      "/Users/harlinl/opt/anaconda3/envs/PIC16B/lib/python3.8/site-packages/autograd/tracer.py:14: UserWarning: Output seems independent of input.\n",
      "  warnings.warn(\"Output seems independent of input.\")\n",
      "/Users/harlinl/opt/anaconda3/envs/PIC16B/lib/python3.8/site-packages/pymanopt/optimizers/line_search.py:44: RuntimeWarning: divide by zero encountered in double_scalars\n",
      "  alpha = self.initial_step_size / norm_d\n",
      "/Users/harlinl/opt/anaconda3/envs/PIC16B/lib/python3.8/site-packages/pymanopt/optimizers/line_search.py:48: RuntimeWarning: invalid value encountered in multiply\n",
      "  newx = manifold.retraction(x, alpha * d)\n",
      "/Users/harlinl/opt/anaconda3/envs/PIC16B/lib/python3.8/site-packages/pymanopt/optimizers/line_search.py:54: RuntimeWarning: invalid value encountered in double_scalars\n",
      "  newf > f0 + self.sufficient_decrease * alpha * df0\n",
      "/Users/harlinl/opt/anaconda3/envs/PIC16B/lib/python3.8/site-packages/pymanopt/optimizers/line_search.py:72: RuntimeWarning: invalid value encountered in double_scalars\n",
      "  step_size = alpha * norm_d\n"
     ]
    },
    {
     "data": {
      "image/png": "[encoded data removed]",
      "text/plain": [
       "<Figure size 432x288 with 1 Axes>"
      ]
     },
     "metadata": {
      "needs_background": "light"
     },
     "output_type": "display_data"
    }
   ],
   "source": [
    "alpha = stiefel_sample(d, n) # V_n(R^d)\n",
    "st_dn = Stiefel(d, n) \n",
    "dists = []\n",
    "ms = range(300)\n",
    "\n",
    "for m in ms:\n",
    "    xs = stiefel_samples(n, k, m)\n",
    "    ys = [alpha.dot(x) for x in xs]\n",
    "\n",
    "    @autograd(st_dn)\n",
    "    def cost(point):\n",
    "        return -anp.sum([anp.linalg.norm(anp.dot(point.T, y), 'nuc') for y in ys])\n",
    "\n",
    "    init_point = st_dn.random_point()\n",
    "\n",
    "    problem = Problem(st_dn, cost=cost)\n",
    "    optimizer = optimizers.SteepestDescent(verbosity=0)\n",
    "    result = optimizer.run(problem, initial_point=init_point)\n",
    "    dists.append(dist2(result.point, alpha))\n",
    "\n",
    "plt.semilogy(ms, dists)\n",
    "plt.xlabel('number of samples on Stiefel manifold')\n",
    "plt.ylabel('err (between subspaces)')\n",
    "plt.show()"
   ]
  }
 ],
 "metadata": {
  "kernelspec": {
   "display_name": "Python 3.8.12 ('PIC16B')",
   "language": "python",
   "name": "python3"
  },
  "language_info": {
   "codemirror_mode": {
    "name": "ipython",
    "version": 3
   },
   "file_extension": ".py",
   "mimetype": "text/x-python",
   "name": "python",
   "nbconvert_exporter": "python",
   "pygments_lexer": "ipython3",
   "version": "3.8.12"
  },
  "orig_nbformat": 4,
  "vscode": {
   "interpreter": {
    "hash": "360ab53077705b6f8e4e6dfbce9110216321825d4fd58fafd1145a84661440eb"
   }
  }
 },
 "nbformat": 4,
 "nbformat_minor": 2
}
