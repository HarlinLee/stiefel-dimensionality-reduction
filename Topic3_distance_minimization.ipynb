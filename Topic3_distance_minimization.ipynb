{
 "cells": [
  {
   "cell_type": "code",
   "execution_count": 1,
   "id": "b4b6d566",
   "metadata": {},
   "outputs": [],
   "source": [
    "import scipy\n",
    "import numpy as np\n",
    "import matplotlib.pyplot as plt\n",
    "import math\n",
    "from math import remainder\n",
    "from sklearn.neighbors import NearestNeighbors\n",
    "import time"
   ]
  },
  {
   "cell_type": "code",
   "execution_count": 23,
   "id": "2b293fbd",
   "metadata": {},
   "outputs": [],
   "source": [
    "def StiefelDistance(parameters):\n",
    "    alpha = parameters[0] \n",
    "    # circle coordinate in image of VkRn\n",
    "    alphatheta = parameters[1] \n",
    "    # image of VkRn = great circle, has normal vector. This is the azimuth of normal vector in spherical coordinates\n",
    "    alphaphi = parameters[2]\n",
    "    # Same as previous but inclination rather than azimuth\n",
    "    testtheta = parameters[3]\n",
    "    # testtheta = azimuth of a point y in Y in VkRd = S^2\n",
    "    testphi = parameters[4] \n",
    "    # same as previous but inclination\n",
    "    point=np.zeros((3,1))\n",
    "    point[0][0]=np.round(np.cos(testtheta)*np.sin(testphi),10)\n",
    "    point[1][0]=np.round(np.sin(testtheta)*np.sin(testphi),10)\n",
    "    point[2][0]=-np.round(np.cos(testphi),10)\n",
    "    pointT = np.matrix.transpose(point)\n",
    "    pointmatrix=np.matmul(point,pointT)\n",
    "    embeddedalpha = np.zeros((3,1))\n",
    "    embeddedalpha[0][0]=np.round(-np.sin(alphatheta)*np.cos(alpha)+np.sin(alpha)*np.cos(alphatheta)*np.cos(alphaphi),10)\n",
    "    embeddedalpha[1][0]=np.round(np.cos(alphatheta)*np.cos(alpha)+np.sin(alpha)*np.sin(alphatheta)*np.cos(alphaphi),10)\n",
    "    embeddedalpha[2][0]=-np.round(np.sin(alphaphi)*np.sin(alpha),10)\n",
    "    embeddedalphaT = np.matrix.transpose(embeddedalpha)\n",
    "    alphamatrix=np.matmul(embeddedalpha, embeddedalphaT)\n",
    "    difference = pointmatrix-alphamatrix\n",
    "    distance=np.linalg.norm(difference)\n",
    "    return distance"
   ]
  },
  {
   "cell_type": "code",
   "execution_count": 27,
   "id": "e940f646",
   "metadata": {},
   "outputs": [
    {
     "data": {
      "text/plain": [
       "1.4142135623730951"
      ]
     },
     "execution_count": 27,
     "metadata": {},
     "output_type": "execute_result"
    }
   ],
   "source": [
    "x = StiefelDistance([0,0,0,0,0])\n",
    "x"
   ]
  },
  {
   "cell_type": "code",
   "execution_count": 29,
   "id": "6e7af9a8",
   "metadata": {},
   "outputs": [
    {
     "data": {
      "text/plain": [
       "     fun: 1.4142135623730951\n",
       "     jac: array([0., 0., 0., 0., 0.])\n",
       " message: 'Optimization terminated successfully'\n",
       "    nfev: 6\n",
       "     nit: 1\n",
       "    njev: 1\n",
       "  status: 0\n",
       " success: True\n",
       "       x: array([0., 0., 0., 0., 0.])"
      ]
     },
     "execution_count": 29,
     "metadata": {},
     "output_type": "execute_result"
    }
   ],
   "source": [
    "#Run optimization\n",
    "scipy.optimize.minimize(StiefelDistance, np.array([0,0,0,0,0]), args=(), \n",
    "                        method='SLSQP', jac=None, \n",
    "                        tol=None, callback=None, \n",
    "                       )"
   ]
  },
  {
   "cell_type": "code",
   "execution_count": null,
   "id": "9bc0ebd5",
   "metadata": {},
   "outputs": [],
   "source": []
  }
 ],
 "metadata": {
  "kernelspec": {
   "display_name": "Python 3 (ipykernel)",
   "language": "python",
   "name": "python3"
  },
  "language_info": {
   "codemirror_mode": {
    "name": "ipython",
    "version": 3
   },
   "file_extension": ".py",
   "mimetype": "text/x-python",
   "name": "python",
   "nbconvert_exporter": "python",
   "pygments_lexer": "ipython3",
   "version": "3.9.12"
  }
 },
 "nbformat": 4,
 "nbformat_minor": 5
}
